{
 "cells": [
  {
   "cell_type": "code",
   "execution_count": 2,
   "id": "driving-petite",
   "metadata": {},
   "outputs": [],
   "source": [
    "import pandas as pd\n",
    "import json\n",
    "import requests\n",
    "import pickle"
   ]
  },
  {
   "cell_type": "code",
   "execution_count": null,
   "id": "banner-elevation",
   "metadata": {},
   "outputs": [],
   "source": [
    "from bs4 import BeautifulSoup\n",
    "import requests"
   ]
  },
  {
   "cell_type": "markdown",
   "id": "falling-injury",
   "metadata": {},
   "source": [
    "## Acquire 8 exotic cocktail recipes via scraping"
   ]
  },
  {
   "cell_type": "code",
   "execution_count": 363,
   "id": "comparable-compensation",
   "metadata": {},
   "outputs": [],
   "source": [
    "\n",
    "\n",
    "exotic_cocktails_url = 'https://www.pubclub.com/lifestyle/8-exotic-cocktails-from-around-the-world-that-you-must-try-at-your-next-party/'\n",
    "cocktails_filepath = 'cocktail_recipe_sources/'\n",
    "exotic_cocktails_filename = '8%20Exotic%20Cocktails%20From%20Around%20The%20World%20That%20You%20Must%20Try%20At%20Your%20Next%20Party.html'\n",
    "#exotic_cocktails_response = requests.get(exotic_cocktails_url)\n",
    "#print( exotic_cocktails_response.status_code )\n",
    "#exotic_cocktails_page = exotic_cocktails_response.text\n",
    "#soup = BeautifulSoup(exotic_cocktails_page, \"lxml\")\n",
    "\n",
    "\n",
    "with open(cocktails_filepath + '8_exotic_cocktail_recipies.html') as fp:\n",
    "    soup = BeautifulSoup(fp, \"lxml\")"
   ]
  },
  {
   "cell_type": "code",
   "execution_count": 364,
   "id": "continental-riverside",
   "metadata": {},
   "outputs": [
    {
     "name": "stdout",
     "output_type": "stream",
     "text": [
      "{'1.Rosé All Day Cocktail': ['Bottle Rosé', 'Vodka', 'Blackberries', 'Lime Juice', 'Honey', 'Lime', 'Raspberries', 'Strawberries', 'Ice'], '2.Lychee Martini': ['Ice cubes', 'vodka', 'lychee juice', 'orange bitters', 'lychees', 'lemon juice'], 'Preparation': ['rhubarb stalks', 'frozen raspberries', 'raw sugar cane', 'lemon juice'], '3.Raspberry-Rhubarb Collins Punch': ['rhubarb stalks', 'frozen raspberries', 'raw sugar cane', 'lemon juice'], '4.Turmeric Colada': ['Ice', 'white rum', 'turmeric cordial', 'coconut milk', 'pineapple juice', 'lime juice', 'simple syrup', 'pineapple.'], '5.PINA COLADA': ['Ice', 'white rum', 'dark rum', 'coconut cream', 'double cream or whipping cream', 'pineapple juice', 'Dash of angostura bitters', 'Maraschino cherries', 'Pineapple slices'], '6.Fruity Margarita Punch': ['fruit punch', 'tequila', 'triple sec (Cointreau)', 'lime juice', 'Oranges', 'limes'], '7.Watermelon Lemonade Margarita': ['tequila', 'triple sec', 'Midori', 'watermelon juice', 'lemonade']}\n"
     ]
    }
   ],
   "source": [
    "cocktail_names = soup.find_all('h3', class_='western')\n",
    "#cocktails = soup.find_all('h4', class_='western')\n",
    "#for c in cocktails:\n",
    "cocktail_dict = {}\n",
    "for c_name in cocktail_names:\n",
    "    cocktail_name = c_name.text\n",
    "    #print(cocktail_name)\n",
    "    c = c_name.find_next_sibling('p').find_next_sibling('h4', class_='western')\n",
    "    \n",
    "    if c.text =='Ingredients':\n",
    "        #print( c )\n",
    "        ul = c.find_next_sibling('p').find_next_sibling('ul')\n",
    "        ing_list = ul.find_all('li')\n",
    "        list_of_ingredients = []\n",
    "        for ing in ing_list:\n",
    "            #print( ing )\n",
    "            list_of_ingredients.append(ing.text.strip())\n",
    "    cocktail_dict[cocktail_name] = list_of_ingredients    \n",
    "            \n",
    "print( cocktail_dict )   "
   ]
  },
  {
   "cell_type": "code",
   "execution_count": 365,
   "id": "attached-edgar",
   "metadata": {},
   "outputs": [],
   "source": [
    "from nltk.stem import WordNetLemmatizer \n",
    "  \n",
    "lemmatizer = WordNetLemmatizer() "
   ]
  },
  {
   "cell_type": "code",
   "execution_count": 366,
   "id": "wrapped-lebanon",
   "metadata": {},
   "outputs": [],
   "source": [
    "exotic_c_word_list = []\n",
    "\n",
    "for ct in cocktail_dict:\n",
    "     exotic_c_word_list.extend( cocktail_dict[ct] )"
   ]
  },
  {
   "cell_type": "code",
   "execution_count": 367,
   "id": "worst-stockholm",
   "metadata": {},
   "outputs": [
    {
     "data": {
      "text/plain": [
       "['bottle rosé',\n",
       " 'vodka',\n",
       " 'blackberry',\n",
       " 'lime juice',\n",
       " 'honey',\n",
       " 'lime',\n",
       " 'raspberry',\n",
       " 'strawberry',\n",
       " 'ice',\n",
       " 'ice cubes',\n",
       " 'vodka',\n",
       " 'lychee juice',\n",
       " 'orange bitters',\n",
       " 'lychee',\n",
       " 'lemon juice',\n",
       " 'rhubarb stalks',\n",
       " 'frozen raspberries',\n",
       " 'raw sugar cane',\n",
       " 'lemon juice',\n",
       " 'rhubarb stalks',\n",
       " 'frozen raspberries',\n",
       " 'raw sugar cane',\n",
       " 'lemon juice',\n",
       " 'ice',\n",
       " 'white rum',\n",
       " 'turmeric cordial',\n",
       " 'coconut milk',\n",
       " 'pineapple juice',\n",
       " 'lime juice',\n",
       " 'simple syrup',\n",
       " 'pineapple.',\n",
       " 'ice',\n",
       " 'white rum',\n",
       " 'dark rum',\n",
       " 'coconut cream',\n",
       " 'double cream or whipping cream',\n",
       " 'pineapple juice',\n",
       " 'dash of angostura bitters',\n",
       " 'maraschino cherries',\n",
       " 'pineapple slices',\n",
       " 'fruit punch',\n",
       " 'tequila',\n",
       " 'triple sec (cointreau)',\n",
       " 'lime juice',\n",
       " 'orange',\n",
       " 'lime',\n",
       " 'tequila',\n",
       " 'triple sec',\n",
       " 'midori',\n",
       " 'watermelon juice',\n",
       " 'lemonade']"
      ]
     },
     "execution_count": 367,
     "metadata": {},
     "output_type": "execute_result"
    }
   ],
   "source": [
    "exotic_c_word_list = [lemmatizer.lemmatize(s.lower()) for s in exotic_c_word_list]\n",
    "exotic_c_word_list"
   ]
  },
  {
   "cell_type": "code",
   "execution_count": 368,
   "id": "signal-stuff",
   "metadata": {},
   "outputs": [],
   "source": [
    "with open(\"data/\" + \"exotic_c_word_list.pickle\", 'wb') as to_write:\n",
    "    pickle.dump(exotic_c_word_list, to_write)"
   ]
  },
  {
   "cell_type": "markdown",
   "id": "direct-vacuum",
   "metadata": {},
   "source": [
    "## Acquire 500+ cocktail recipes from the CocktailDB JSON source"
   ]
  },
  {
   "cell_type": "code",
   "execution_count": 369,
   "id": "uniform-device",
   "metadata": {},
   "outputs": [],
   "source": [
    "drink_url_stem ='https://www.thecocktaildb.com/api/json/v2/9973533/lookup.php?i='\n",
    "alcohol_api_url = 'https://www.thecocktaildb.com/api/json/v2/9973533/filter.php?a=Alcoholic'"
   ]
  },
  {
   "cell_type": "code",
   "execution_count": 370,
   "id": "parental-kansas",
   "metadata": {},
   "outputs": [],
   "source": [
    "drink_url_stem ='https://www.thecocktaildb.com/api/json/v2/9973533/lookup.php?i='\n",
    "\n",
    "def cocktail_list_from_cocktail_db():\n",
    "    f=alcohol_api_url\n",
    "    data = requests.get(f)    \n",
    "    parsed_json = json.loads(data.text)   \n",
    "    drink_dict_list = []\n",
    "    \n",
    "    for i in (parsed_json[\"drinks\"]):\n",
    "        drink_id = i[\"idDrink\"]\n",
    "        drink_url = drink_url_stem + drink_id\n",
    "        r_data = requests.get(drink_url)\n",
    "        drink_dict = r_data.json()['drinks'][0]\n",
    "        drink_dict_list.append(drink_dict)\n",
    "    return( drink_dict_list )\n",
    "\n",
    "cocktail_db_list = cocktail_list_from_cocktail_db() \n",
    "#print( cocktail_db_list )  \n",
    "\n",
    "with open(\"data/\" + \"cocktail_db_list.pickle\", 'wb') as to_write:\n",
    "    pickle.dump(cocktail_db_list, to_write)"
   ]
  },
  {
   "cell_type": "code",
   "execution_count": 371,
   "id": "square-greene",
   "metadata": {},
   "outputs": [],
   "source": [
    "with open(\"data/\" + \"cocktail_dict.pickle\", 'wb') as to_write:\n",
    "    pickle.dump(cocktail_dict, to_write)"
   ]
  },
  {
   "cell_type": "code",
   "execution_count": null,
   "id": "collected-navigator",
   "metadata": {},
   "outputs": [],
   "source": []
  },
  {
   "cell_type": "code",
   "execution_count": null,
   "id": "essential-crawford",
   "metadata": {},
   "outputs": [],
   "source": []
  }
 ],
 "metadata": {
  "kernelspec": {
   "display_name": "Python [conda env:metis] *",
   "language": "python",
   "name": "conda-env-metis-py"
  },
  "language_info": {
   "codemirror_mode": {
    "name": "ipython",
    "version": 3
   },
   "file_extension": ".py",
   "mimetype": "text/x-python",
   "name": "python",
   "nbconvert_exporter": "python",
   "pygments_lexer": "ipython3",
   "version": "3.8.6"
  }
 },
 "nbformat": 4,
 "nbformat_minor": 5
}
